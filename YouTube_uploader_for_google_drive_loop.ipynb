{
  "cells": [
    {
      "cell_type": "markdown",
      "metadata": {
        "id": "PS5FtoRHIa-y"
      },
      "source": [
        "#Upload to youtube from Google Drive\n",
        "\n",
        "\n",
        "1.   Now no need to download video from drive and then upload to youtube.\n",
        "2.   Super fast upload speed (200MBs in 2 sec)\n",
        "3.   Without using any Internet data (It only uses colab's online servers)\n",
        "\n",
        "\n",
        "\n"
      ]
    },
    {
      "cell_type": "code",
      "execution_count": null,
      "metadata": {
        "id": "raTsvxqi9x64"
      },
      "outputs": [],
      "source": [
        "!sudo apt-get install python2.7\n",
        "!curl https://bootstrap.pypa.io/pip/2.7/get-pip.py -o get-pip.py\n",
        "!python2.7 get-pip.py\n",
        "!pip2 install httplib2 apiclient google-api-python-client oauth2client\n",
        "!git clone https://github.com/Amagnum/google-drive-to-youtube-video"
      ]
    },
    {
      "cell_type": "markdown",
      "metadata": {
        "id": "MKPOUkea_VRk"
      },
      "source": [
        "Connect your google drive (Run the code below)"
      ]
    },
    {
      "cell_type": "code",
      "execution_count": null,
      "metadata": {
        "id": "Yh7bST1-TbrW"
      },
      "outputs": [],
      "source": [
        "from google.colab import drive\n",
        "drive.mount('/content/drive')"
      ]
    },
    {
      "cell_type": "markdown",
      "metadata": {
        "id": "ivnfcxIB_dre"
      },
      "source": [
        "Set ClientID, Client Secret and Project_ID\n",
        "\n",
        "How to get?\n",
        "1. Navigate to https://console.developers.google.com/\n",
        "2. Create a google cloud project (if not already created)\n",
        "3. Goto **\"APIs and Services\"** then **\"credintials\"**\n",
        "4. Create new Credientials. Select **\"OAuth 2.0 client\"** select type as **\"Desktop app\"**\n",
        "5. After successfully creating, copy the **ClientID** and **Client Secret** into the variables declared below.\n",
        "\n",
        "\n",
        "\n"
      ]
    },
    {
      "cell_type": "markdown",
      "metadata": {},
      "source": [
        "*Note: Due to YouTube's API quota limits, you can only upload 6 videos per day per client. If you exceed this limit, you may need to wait until the next day to upload more videos. Or create more projects and add their clientID and clientSecret in the following code.*\n",
        "\n",
        "Every time you run the code, you will get a new link to authorize your google account. Copy the link and paste it in the box below. Then copy the code and paste it in the box below the link. Then press enter."
      ]
    },
    {
      "cell_type": "code",
      "execution_count": null,
      "metadata": {},
      "outputs": [],
      "source": [
        "import glob\n",
        "import sys"
      ]
    },
    {
      "cell_type": "code",
      "execution_count": null,
      "metadata": {
        "id": "Fgqbiuxecd86"
      },
      "outputs": [],
      "source": [
        "fns = glob.glob(\"/content/drive/MyDrive/'PATH'/*.mp4\")\n",
        "print(f\"There are {len(fns)} videos.\")\n",
        "\n",
        "# Set YT video description below\n",
        "descText = \"Description\"\n",
        "\n",
        "# Set YT video kewords below\n",
        "keywords = \"Keywords\""
      ]
    },
    {
      "cell_type": "code",
      "execution_count": null,
      "metadata": {
        "id": "7q8FmKhXhqks"
      },
      "outputs": [],
      "source": [
        "cd google-drive-to-youtube-video"
      ]
    },
    {
      "cell_type": "code",
      "execution_count": null,
      "metadata": {
        "id": "lUk0R6V1Ydt7"
      },
      "outputs": [],
      "source": [
        "clientIds = [\n",
        "    \"345980893795-qsde_this_is_dummy\",\n",
        "    \"123456789-abc_this_is_dummy\",\n",
        "    ]\n",
        "clientSecrets = [\n",
        "    \"GOCSPX-_this_is_dummy\",\n",
        "    \"GOCSPX-_this_is_dummy\",\n",
        "    ]\n",
        "projectId = \"_this_is_dummy\""
      ]
    },
    {
      "cell_type": "code",
      "execution_count": null,
      "metadata": {
        "id": "xsYdV5knhr3w"
      },
      "outputs": [],
      "source": [
        "def auto_switch(clientIds, clientSecrets, skip_idx):\n",
        "  for i in range(len(clientIds)):\n",
        "    clientId = clientIds[i]\n",
        "    clientSecret = clientSecrets[i]\n",
        "\n",
        "    fileText = f\"\"\"{{\n",
        "      \"web\": {{\n",
        "        \"client_id\": \"{clientId}\",\n",
        "        \"client_secret\": \"{clientSecret}\",\n",
        "        \"project_id\": \"{projectId}\",\n",
        "        \"auth_provider_x509_cert_url\":\"https://www.googleapis.com/oauth2/v1/certs\",\n",
        "        \"redirect_uris\": [],\n",
        "        \"auth_uri\": \"https://accounts.google.com/o/oauth2/auth\",\n",
        "        \"token_uri\": \"https://accounts.google.com/o/oauth2/token\"\n",
        "      }}\n",
        "    }}\"\"\"\n",
        "\n",
        "    file = open(\"client_secrets.json\", \"w\")\n",
        "    file.write(fileText)\n",
        "    file.close()\n",
        "\n",
        "    batch_num = 6\n",
        "    upload_idx = 0\n",
        "\n",
        "    for idx, fn in enumerate(fns):\n",
        "      if idx < skip_idx:\n",
        "        continue\n",
        "      if upload_idx >= batch_num:\n",
        "        break\n",
        "      title = fn.split(\"/content/drive/MyDrive/Backup/\")[1].split(\"Tom\")[0]\n",
        "      !python2.7 upload_video.py --file=\"$fn\" --title=\"$title\" --description=\"$descText\" --keywords=\"$keywords\" --category=\"22\" --privacyStatus=\"private\" --noauth_local_webserver\n",
        "      upload_idx += 1\n",
        "      print(f\"Uploaded {idx+1}/{len(fns)}\")\n",
        "    skip_idx += batch_num\n",
        "    !rm \"upload_video.py-oauth2.json\"\n",
        "    !rm \"client_secrets.json\"\n",
        "  return skip_idx"
      ]
    },
    {
      "cell_type": "code",
      "execution_count": null,
      "metadata": {
        "id": "x7AA23fGkJzE"
      },
      "outputs": [],
      "source": [
        "# Skip index will help you to skip already uploaded videos when it exceeds the limit of 6 videos per day\n",
        "skip_idx = 0\n",
        "\n",
        "print(\"Next skip_idx is \"+auto_switch(clientIds, clientSecrets, skip_idx))"
      ]
    }
  ],
  "metadata": {
    "colab": {
      "provenance": []
    },
    "kernelspec": {
      "display_name": "Python 3",
      "name": "python3"
    },
    "language_info": {
      "name": "python"
    }
  },
  "nbformat": 4,
  "nbformat_minor": 0
}
